{
 "cells": [
  {
   "cell_type": "markdown",
   "metadata": {},
   "source": [
    "# YTK Protocol (Parts $\\rightarrow$ Cassette)"
   ]
  },
  {
   "cell_type": "markdown",
   "metadata": {},
   "source": [
    "## Initial imports:\n",
    "\n",
    "See [requirements](misc/requirements.txt) file to see the required packages to run this notebook."
   ]
  },
  {
   "cell_type": "code",
   "execution_count": 1,
   "metadata": {},
   "outputs": [],
   "source": [
    "import lib"
   ]
  },
  {
   "cell_type": "code",
   "execution_count": 2,
   "metadata": {},
   "outputs": [],
   "source": [
    "registry = lib.load_registry(\n",
    "    ptk=False,  # set to True to load Pichia ToolKit\n",
    "    elab_server=None,  # change to \"https://my.elab.server:3148\" to use your ELabFTW server\n",
    "    elab_token=None,   # change to \"\""
   ]
  },
  {
   "cell_type": "code",
   "execution_count": 3,
   "metadata": {},
   "outputs": [
    {
     "name": "stdout",
     "output_type": "stream",
     "text": [
      "\n",
      "Fill the table with as many plasmids as desired, using the \"Add Row\" button\n",
      "to add more rows. When finished, run the next cell.\n",
      "\n"
     ]
    },
    {
     "data": {
      "application/vnd.jupyter.widget-view+json": {
       "model_id": "d9d7c7a54347469cb13be332bb1c9ee0",
       "version_major": 2,
       "version_minor": 0
      },
      "text/plain": [
       "QgridWidget(grid_options={'fullWidthRows': True, 'syncColumnCellResize': True, 'forceFitColumns': True, 'defau…"
      ]
     },
     "metadata": {},
     "output_type": "display_data"
    }
   ],
   "source": [
    "plasmids = lib.ask_plasmids()"
   ]
  },
  {
   "cell_type": "code",
   "execution_count": 4,
   "metadata": {
    "scrolled": false
   },
   "outputs": [
    {
     "name": "stdout",
     "output_type": "stream",
     "text": [
      "\n",
      "Use the selector to choose which parts to use in each plasmid. Parts are\n",
      "sorted by YTK type. When finished, run the next cell.\n",
      "\n"
     ]
    },
    {
     "data": {
      "application/vnd.jupyter.widget-view+json": {
       "model_id": "d7a716c71a3e4ef9aed6cc8f3bd2c173",
       "version_major": 2,
       "version_minor": 0
      },
      "text/plain": [
       "QgridWidget(grid_options={'fullWidthRows': True, 'syncColumnCellResize': True, 'forceFitColumns': True, 'defau…"
      ]
     },
     "metadata": {},
     "output_type": "display_data"
    }
   ],
   "source": [
    "parts = lib.ask_parts(registry, plasmids)"
   ]
  },
  {
   "cell_type": "code",
   "execution_count": 6,
   "metadata": {},
   "outputs": [
    {
     "name": "stdout",
     "output_type": "stream",
     "text": [
      "\n",
      "Making sure all assemblies are valid:\n",
      "\n",
      "- Validating plasmid psXXX... ✓\n"
     ]
    },
    {
     "data": {
      "text/html": [
       "<div>\n",
       "<style scoped>\n",
       "    .dataframe tbody tr th:only-of-type {\n",
       "        vertical-align: middle;\n",
       "    }\n",
       "\n",
       "    .dataframe tbody tr th {\n",
       "        vertical-align: top;\n",
       "    }\n",
       "\n",
       "    .dataframe thead th {\n",
       "        text-align: right;\n",
       "    }\n",
       "</style>\n",
       "<table border=\"1\" class=\"dataframe\">\n",
       "  <thead>\n",
       "    <tr style=\"text-align: right;\">\n",
       "      <th></th>\n",
       "      <th>Plasmid ID</th>\n",
       "      <th>Plasmid Name</th>\n",
       "      <th>Part ID</th>\n",
       "      <th>Part Name</th>\n",
       "      <th>Part Position</th>\n",
       "      <th>Resistance</th>\n",
       "    </tr>\n",
       "  </thead>\n",
       "  <tbody>\n",
       "    <tr>\n",
       "      <th>0</th>\n",
       "      <td>psXXX</td>\n",
       "      <td>plasmid_name</td>\n",
       "      <td>pYTK002</td>\n",
       "      <td>ConLS</td>\n",
       "      <td>A2</td>\n",
       "      <td>Chloramphenicol</td>\n",
       "    </tr>\n",
       "    <tr>\n",
       "      <th>1</th>\n",
       "      <td>psXXX</td>\n",
       "      <td>plasmid_name</td>\n",
       "      <td>pYTK048</td>\n",
       "      <td>Spacer</td>\n",
       "      <td>D12</td>\n",
       "      <td>Chloramphenicol</td>\n",
       "    </tr>\n",
       "    <tr>\n",
       "      <th>2</th>\n",
       "      <td>psXXX</td>\n",
       "      <td>plasmid_name</td>\n",
       "      <td>pYTK067</td>\n",
       "      <td>ConR1</td>\n",
       "      <td>F7</td>\n",
       "      <td>Chloramphenicol</td>\n",
       "    </tr>\n",
       "    <tr>\n",
       "      <th>3</th>\n",
       "      <td>psXXX</td>\n",
       "      <td>plasmid_name</td>\n",
       "      <td>pYTK095</td>\n",
       "      <td>AmpR-ColE1</td>\n",
       "      <td>H11</td>\n",
       "      <td>Ampicillin</td>\n",
       "    </tr>\n",
       "  </tbody>\n",
       "</table>\n",
       "</div>"
      ],
      "text/plain": [
       "  Plasmid ID  Plasmid Name  Part ID   Part Name Part Position       Resistance\n",
       "0      psXXX  plasmid_name  pYTK002       ConLS            A2  Chloramphenicol\n",
       "1      psXXX  plasmid_name  pYTK048      Spacer           D12  Chloramphenicol\n",
       "2      psXXX  plasmid_name  pYTK067       ConR1            F7  Chloramphenicol\n",
       "3      psXXX  plasmid_name  pYTK095  AmpR-ColE1           H11       Ampicillin"
      ]
     },
     "metadata": {},
     "output_type": "display_data"
    }
   ],
   "source": [
    "assemblies = lib.validate_assemblies(registry, parts)"
   ]
  },
  {
   "cell_type": "code",
   "execution_count": 7,
   "metadata": {},
   "outputs": [
    {
     "name": "stdout",
     "output_type": "stream",
     "text": [
      "\n",
      "Use the table below to input mass concentration for all your parts.\n",
      "\n"
     ]
    },
    {
     "data": {
      "application/vnd.jupyter.widget-view+json": {
       "model_id": "5770ed8e67e04cd499b7a6ad5ef7ef09",
       "version_major": 2,
       "version_minor": 0
      },
      "text/plain": [
       "QgridWidget(grid_options={'fullWidthRows': True, 'syncColumnCellResize': True, 'forceFitColumns': True, 'defau…"
      ]
     },
     "metadata": {},
     "output_type": "display_data"
    }
   ],
   "source": [
    "strains, concentrations = lib.ask_concentrations(assemblies)"
   ]
  },
  {
   "cell_type": "code",
   "execution_count": 8,
   "metadata": {},
   "outputs": [
    {
     "data": {
      "text/html": [
       "<div>\n",
       "<style scoped>\n",
       "    .dataframe tbody tr th:only-of-type {\n",
       "        vertical-align: middle;\n",
       "    }\n",
       "\n",
       "    .dataframe tbody tr th {\n",
       "        vertical-align: top;\n",
       "    }\n",
       "\n",
       "    .dataframe thead th {\n",
       "        text-align: right;\n",
       "    }\n",
       "</style>\n",
       "<table border=\"1\" class=\"dataframe\">\n",
       "  <thead>\n",
       "    <tr style=\"text-align: right;\">\n",
       "      <th></th>\n",
       "      <th>Part ID</th>\n",
       "      <th>Part Name</th>\n",
       "      <th>Part Position</th>\n",
       "      <th>Resistance</th>\n",
       "      <th>Plasmid size</th>\n",
       "      <th>Part size</th>\n",
       "      <th>Sample concentration (ng/µL)</th>\n",
       "      <th>MW (Dalton)</th>\n",
       "      <th>Sample concentration (fmol/µL)</th>\n",
       "      <th>µL of sample to 40fmol</th>\n",
       "      <th>Dilution factor to 20fmol/µL</th>\n",
       "    </tr>\n",
       "  </thead>\n",
       "  <tbody>\n",
       "    <tr>\n",
       "      <th>0</th>\n",
       "      <td>pYTK002</td>\n",
       "      <td>ConLS</td>\n",
       "      <td>A2</td>\n",
       "      <td>Chloramphenicol</td>\n",
       "      <td>1856</td>\n",
       "      <td>194</td>\n",
       "      <td>0</td>\n",
       "      <td>1.146788e+06</td>\n",
       "      <td>0.0</td>\n",
       "      <td>inf</td>\n",
       "      <td>0</td>\n",
       "    </tr>\n",
       "    <tr>\n",
       "      <th>1</th>\n",
       "      <td>pYTK048</td>\n",
       "      <td>Spacer</td>\n",
       "      <td>D12</td>\n",
       "      <td>Chloramphenicol</td>\n",
       "      <td>1703</td>\n",
       "      <td>41</td>\n",
       "      <td>0</td>\n",
       "      <td>1.052245e+06</td>\n",
       "      <td>0.0</td>\n",
       "      <td>inf</td>\n",
       "      <td>0</td>\n",
       "    </tr>\n",
       "    <tr>\n",
       "      <th>2</th>\n",
       "      <td>pYTK067</td>\n",
       "      <td>ConR1</td>\n",
       "      <td>F7</td>\n",
       "      <td>Chloramphenicol</td>\n",
       "      <td>1835</td>\n",
       "      <td>173</td>\n",
       "      <td>0</td>\n",
       "      <td>1.133815e+06</td>\n",
       "      <td>0.0</td>\n",
       "      <td>inf</td>\n",
       "      <td>0</td>\n",
       "    </tr>\n",
       "    <tr>\n",
       "      <th>3</th>\n",
       "      <td>pYTK095</td>\n",
       "      <td>AmpR-ColE1</td>\n",
       "      <td>H11</td>\n",
       "      <td>Ampicillin</td>\n",
       "      <td>2906</td>\n",
       "      <td>1870</td>\n",
       "      <td>0</td>\n",
       "      <td>1.795545e+06</td>\n",
       "      <td>0.0</td>\n",
       "      <td>inf</td>\n",
       "      <td>0</td>\n",
       "    </tr>\n",
       "  </tbody>\n",
       "</table>\n",
       "</div>"
      ],
      "text/plain": [
       "   Part ID   Part Name Part Position       Resistance  Plasmid size  \\\n",
       "0  pYTK002       ConLS            A2  Chloramphenicol          1856   \n",
       "1  pYTK048      Spacer           D12  Chloramphenicol          1703   \n",
       "2  pYTK067       ConR1            F7  Chloramphenicol          1835   \n",
       "3  pYTK095  AmpR-ColE1           H11       Ampicillin          2906   \n",
       "\n",
       "   Part size  Sample concentration (ng/µL)   MW (Dalton)  \\\n",
       "0        194                             0  1.146788e+06   \n",
       "1         41                             0  1.052245e+06   \n",
       "2        173                             0  1.133815e+06   \n",
       "3       1870                             0  1.795545e+06   \n",
       "\n",
       "   Sample concentration (fmol/µL)  µL of sample to 40fmol  \\\n",
       "0                             0.0                     inf   \n",
       "1                             0.0                     inf   \n",
       "2                             0.0                     inf   \n",
       "3                             0.0                     inf   \n",
       "\n",
       "   Dilution factor to 20fmol/µL  \n",
       "0                             0  \n",
       "1                             0  \n",
       "2                             0  \n",
       "3                             0  "
      ]
     },
     "execution_count": 8,
     "metadata": {},
     "output_type": "execute_result"
    }
   ],
   "source": [
    "lib.dilution_table(strains, concentrations)"
   ]
  },
  {
   "cell_type": "code",
   "execution_count": 9,
   "metadata": {},
   "outputs": [
    {
     "data": {
      "text/html": [
       "<a href='http://localhost:8888/files/MoClo - 2018-08-09 13:53:35.846014.zip'>MoClo - 2018-08-09 13:53:35.846014.zip<a>"
      ],
      "text/plain": [
       "<IPython.core.display.HTML object>"
      ]
     },
     "metadata": {},
     "output_type": "display_data"
    }
   ],
   "source": [
    "lib.generate_gb_files(assemblies)"
   ]
  },
  {
   "cell_type": "code",
   "execution_count": null,
   "metadata": {},
   "outputs": [],
   "source": []
  }
 ],
 "metadata": {
  "kernelspec": {
   "display_name": "Python 3",
   "language": "python",
   "name": "python3"
  },
  "language_info": {
   "codemirror_mode": {
    "name": "ipython",
    "version": 3
   },
   "file_extension": ".py",
   "mimetype": "text/x-python",
   "name": "python",
   "nbconvert_exporter": "python",
   "pygments_lexer": "ipython3",
   "version": "3.7.0"
  }
 },
 "nbformat": 4,
 "nbformat_minor": 2
}
