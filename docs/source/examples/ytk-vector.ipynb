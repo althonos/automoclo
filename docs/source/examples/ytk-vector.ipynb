{
 "cells": [
  {
   "cell_type": "code",
   "execution_count": null,
   "metadata": {
    "nbsphinx": "hidden"
   },
   "outputs": [],
   "source": [
    "# Don't mind me !\n",
    "# Hidden cell to setup imports and rendering\n",
    "%matplotlib inline\n",
    "import sys\n",
    "sys.path.insert(0, '../../../moclo')\n",
    "import moclo.kits\n",
    "moclo.kits.__path__.append('../../../moclo-ytk/moclo/kits')\n",
    "import moclo.kits.ytk"
   ]
  },
  {
   "cell_type": "code",
   "execution_count": null,
   "metadata": {
     "nbsphinx": "hidden"
   },
   "outputs": [],
   "source": [
    "# Don't mind me !\n",
    "# Hidden cell to download YTK GenBank sequences from AddGene\n",
    "import io\n",
    "import os\n",
    "import zipfile\n",
    "import requests\n",
    "URL = 'https://media.addgene.org/cms/filer_public/4d/26/4d26f69c-1b8e-4473-8494-a7e993618112/ytk_genbank_files.zip'\n",
    "if not os.path.exists('plasmids'):\n",
    "    with requests.get(URL) as r:\n",
    "        content = io.BytesIO(r.content)\n",
    "        with zipfile.ZipFile(content, 'r') as zf:\n",
    "            zf.extractall()"
   ]
  },
  {
   "cell_type": "markdown",
   "metadata": {},
   "source": [
    "# YTK integration vector\n",
    "\n",
    "In this example, we will be using the `moclo` library as well as the `moclo-ytk` extension kit to generate the pre-assembled YTK integration vector (**pYTK096**) from the available YTK parts, as described in the [*Lee et al.* paper](https://doi.org/10.1021/sb500366v)\n",
    "\n",
    "## Structure\n",
    "\n",
    "The list of parts, as well as the vector structure, can be found in the **Supporting Table S1** from the *Lee et al.* supplementary materials:\n",
    "\n",
    "![](https://pubs.acs.org/appl/literatum/publisher/achs/journals/content/asbcd6/2015/asbcd6.2015.4.issue-9/sb500366v/20150914/images/large/sb-2014-00366v_0007.jpeg)"
   ]
  },
  {
   "cell_type": "markdown",
   "metadata": {},
   "source": [
    "## Loading parts"
   ]
  },
  {
   "cell_type": "markdown",
   "metadata": {},
   "source": [
    "First of all, we'll be loading each of the desired parts from the GenBank files\n",
    "distributed with the YTK kits. They can be found on the\n",
    "[AddGene YTK page](https://www.addgene.org/kits/moclo-ytk/#protocols-and-resources)."
   ]
  },
  {
   "cell_type": "code",
   "execution_count": null,
   "metadata": {},
   "outputs": [],
   "source": [
    "import os\n",
    "import gzip\n",
    "\n",
    "from Bio.SeqIO import read\n",
    "from moclo.kits import ytk\n",
    "from moclo.record import CircularRecord\n",
    "\n",
    "def load_plasmid(name):\n",
    "    with open(os.path.join('plasmids', name), 'r') as handle:\n",
    "        return CircularRecord(read(handle, 'gb'))\n",
    "\n",
    "parts = {\n",
    "  'Part 1':    ytk.YTKPart1(load_plasmid(\"pYTK008.gb\")),\n",
    "  'Part 234r': ytk.YTKPart234r(load_plasmid(\"pYTK047.gb\")),\n",
    "  'Part 5':    ytk.YTKPart5(load_plasmid(\"pYTK073.gb\")),\n",
    "  'Part 6':    ytk.YTKPart6(load_plasmid(\"pYTK074.gb\")),\n",
    "  'Part 7':    ytk.YTKPart7(load_plasmid(\"pYTK086.gb\")),\n",
    "  'Part 8a':   ytk.YTKPart8a(load_plasmid(\"pYTK090.gb\")),\n",
    "  'Part 8b':   ytk.YTKPart8b(load_plasmid(\"pYTK092.gb\")),\n",
    "}"
   ]
  },
  {
   "cell_type": "markdown",
   "metadata": {},
   "source": [
    "## Checking parts\n",
    "\n",
    "We can use `dna_features_viewer` to visualize your records before proceeding (for readability purposes, we'll show the records as linear although they are plasmids):"
   ]
  },
  {
   "cell_type": "code",
   "execution_count": null,
   "metadata": {},
   "outputs": [],
   "source": [
    "import dna_features_viewer as dfv\n",
    "import matplotlib.pyplot as plt\n",
    "\n",
    "translator = dfv.BiopythonTranslator()\n",
    "plt.figure(1, figsize=(20, 10))\n",
    "for index, (name, part) in enumerate(parts.items()):\n",
    "    ax = plt.subplot(2, 4, index + 1)\n",
    "    translator.translate_record(part.record).plot(ax)\n",
    "    plt.title(name)\n",
    "plt.show()"
   ]
  },
  {
   "cell_type": "markdown",
   "metadata": {},
   "source": [
    "## Creating the assembly\n",
    "\n",
    "We use the `Part 8a` as our base assembly vector, and then assemble all the other parts into that vector:"
   ]
  },
  {
   "cell_type": "code",
   "execution_count": null,
   "metadata": {},
   "outputs": [],
   "source": [
    "vector = parts.pop('Part 8a')\n",
    "assembly = vector.assemble(*parts.values())"
   ]
  },
  {
   "cell_type": "markdown",
   "metadata": {},
   "source": [
    "## Comparing the assembly to the expected vector"
   ]
  },
  {
   "cell_type": "code",
   "execution_count": null,
   "metadata": {},
   "outputs": [],
   "source": [
    "plt.figure(2, figsize=(24, 8))\n",
    "\n",
    "ax = plt.subplot(2, 1, 1)\n",
    "translator.translate_record(assembly).plot(ax)\n",
    "plt.title('Assembly')\n",
    "\n",
    "ax = plt.subplot(2, 1, 2)\n",
    "translator.translate_record(load_plasmid('pYTK096.gb')).plot(ax)\n",
    "plt.title('Expected')\n",
    "\n",
    "plt.show()\n"
   ]
  }
 ],
 "metadata": {
  "kernelspec": {
   "display_name": "Python 3",
   "language": "python",
   "name": "python3"
  },
  "language_info": {
   "codemirror_mode": {
    "name": "ipython",
    "version": 3
   },
   "file_extension": ".py",
   "mimetype": "text/x-python",
   "name": "python",
   "nbconvert_exporter": "python",
   "pygments_lexer": "ipython3",
   "version": "3.6.5"
  }
 },
 "nbformat": 4,
 "nbformat_minor": 2
}
