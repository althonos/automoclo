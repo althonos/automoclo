{
 "cells": [
  {
   "cell_type": "code",
   "execution_count": null,
   "metadata": {
    "nbsphinx": "hidden"
   },
   "outputs": [],
   "source": [
    "# Don't mind me !\n",
    "# Hidden cell to setup imports and rendering\n",
    "%matplotlib inline\n",
    "import sys\n",
    "sys.path.insert(0, '../../../moclo')\n",
    "import moclo.kits\n",
    "import moclo.registry\n",
    "moclo.kits.__path__.append('../../../moclo-ytk/moclo/kits')\n",
    "moclo.registry.__path__.append('../../../moclo-ytk/moclo/registry')\n",
    "import moclo.kits.ytk\n",
    "import moclo.registry.ytk"
   ]
  },
  {
   "cell_type": "markdown",
   "metadata": {},
   "source": [
    "# YTK integration vector\n",
    "\n",
    "In this example, we will be using the `moclo` library as well as the `moclo-ytk` extension kit to generate the pre-assembled YTK integration vector (**pYTK096**) from the available YTK parts, as described in the [*Lee et al.* paper](https://doi.org/10.1021/sb500366v)\n",
    "\n",
    "## Structure\n",
    "\n",
    "The list of parts, as well as the vector structure, can be found in the **Supporting Table S1** from the *Lee et al.* supplementary materials:\n",
    "\n",
    "![](https://pubs.acs.org/appl/literatum/publisher/achs/journals/content/asbcd6/2015/asbcd6.2015.4.issue-9/sb500366v/20150914/images/large/sb-2014-00366v_0007.jpeg)"
   ]
  },
  {
   "cell_type": "markdown",
   "metadata": {},
   "source": [
    "## Loading parts"
   ]
  },
  {
   "cell_type": "markdown",
   "metadata": {},
   "source": [
    "We'll be loading each of the desired parts from the `moclo-ytk` registry. \n",
    "It is generated from the GenBank distributed with the YTK kits. \n",
    "They can be found on the [AddGene YTK page](https://www.addgene.org/kits/moclo-ytk/#protocols-and-resources)."
   ]
  },
  {
   "cell_type": "code",
   "execution_count": null,
   "metadata": {},
   "outputs": [],
   "source": [
    "from moclo.registry.ytk import YTKRegistry\n",
    "registry = YTKRegistry()\n",
    "\n",
    "vector = registry['pYTK090'].entity         # Part 8a\n",
    "modules = [registry['pYTK008'].entity,      # Part 1\n",
    "           registry['pYTK047'].entity,      # Part 234r\n",
    "           registry['pYTK073'].entity,      # Part 5\n",
    "           registry['pYTK074'].entity,      # Part 6\n",
    "           registry['pYTK086'].entity,      # Part 7\n",
    "           registry['pYTK092'].entity]      # Part 8b"
   ]
  },
  {
   "cell_type": "markdown",
   "metadata": {},
   "source": [
    "## Checking parts\n",
    "\n",
    "We can use `dna_features_viewer` to visualize your records before proceeding (for readability purposes, we'll show the records as linear although they are plasmids):"
   ]
  },
  {
   "cell_type": "code",
   "execution_count": null,
   "metadata": {},
   "outputs": [],
   "source": [
    "import itertools\n",
    "import dna_features_viewer as dfv\n",
    "import matplotlib.pyplot as plt\n",
    "\n",
    "translator = dfv.BiopythonTranslator()\n",
    "plt.figure(1, figsize=(20, 10))\n",
    "for index, entity in enumerate(itertools.chain(modules, [vector])):\n",
    "    ax = plt.subplot(2, 4, index + 1)\n",
    "    translator.translate_record(entity.record).plot(ax)\n",
    "    plt.title(entity.record.id)\n",
    "plt.show()"
   ]
  },
  {
   "cell_type": "markdown",
   "metadata": {},
   "source": [
    "## Creating the assembly\n",
    "\n",
    "We use the `Part 8a` as our base assembly vector, and then assemble all the other parts into that vector:"
   ]
  },
  {
   "cell_type": "code",
   "execution_count": null,
   "metadata": {},
   "outputs": [],
   "source": [
    "assembly = vector.assemble(*modules)"
   ]
  },
  {
   "cell_type": "markdown",
   "metadata": {},
   "source": [
    "## Comparing the assembly to the expected vector"
   ]
  },
  {
   "cell_type": "code",
   "execution_count": null,
   "metadata": {},
   "outputs": [],
   "source": [
    "plt.figure(2, figsize=(24, 8))\n",
    "\n",
    "ax = plt.subplot(2, 1, 1)\n",
    "translator.translate_record(assembly).plot(ax)\n",
    "plt.title('Assembly')\n",
    "\n",
    "ax = plt.subplot(2, 1, 2)\n",
    "translator.translate_record(registry['pYTK096'].entity.record).plot(ax)\n",
    "plt.title('Expected')\n",
    "\n",
    "plt.show()\n"
   ]
  },
  {
   "cell_type": "code",
   "execution_count": null,
   "metadata": {},
   "outputs": [],
   "source": []
  }
 ],
 "metadata": {
  "kernelspec": {
   "display_name": "Python 3",
   "language": "python",
   "name": "python3"
  },
  "language_info": {
   "codemirror_mode": {
    "name": "ipython",
    "version": 3
   },
   "file_extension": ".py",
   "mimetype": "text/x-python",
   "name": "python",
   "nbconvert_exporter": "python",
   "pygments_lexer": "ipython3",
   "version": "3.6.6"
  }
 },
 "nbformat": 4,
 "nbformat_minor": 2
}
